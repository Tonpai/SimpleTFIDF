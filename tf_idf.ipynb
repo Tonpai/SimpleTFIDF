{
 "cells": [
  {
   "cell_type": "markdown",
   "metadata": {},
   "source": [
    "# Simple TF-IDF"
   ]
  },
  {
   "cell_type": "code",
   "execution_count": 1,
   "metadata": {},
   "outputs": [],
   "source": [
    "from collections import Counter"
   ]
  },
  {
   "cell_type": "code",
   "execution_count": 17,
   "metadata": {},
   "outputs": [],
   "source": [
    "sample_word = 'สวัสดี'\n",
    "sample_docs = [\n",
    "    ['สวัสดี', 'ปีใหม่'],\n",
    "    ['ลาก่อน', 'พรุ่งนี้', 'เจอกัน', 'ใหม่', 'ปีใหม่'],\n",
    "]"
   ]
  },
  {
   "cell_type": "code",
   "execution_count": 18,
   "metadata": {},
   "outputs": [
    {
     "data": {
      "text/plain": [
       "[Counter({'สวัสดี': 1, 'ปีใหม่': 1}),\n",
       " Counter({'ลาก่อน': 1, 'พรุ่งนี้': 1, 'เจอกัน': 1, 'ใหม่': 1, 'ปีใหม่': 1})]"
      ]
     },
     "execution_count": 18,
     "metadata": {},
     "output_type": "execute_result"
    }
   ],
   "source": [
    "# Create count table\n",
    "docs_count_table = []\n",
    "\n",
    "for doc in sample_docs:\n",
    "    counter = Counter()\n",
    "    for word in doc:\n",
    "        counter[word] = counter[word] + 1\n",
    "    docs_count_table.append(counter)\n",
    "\n",
    "docs_count_table"
   ]
  },
  {
   "cell_type": "code",
   "execution_count": 19,
   "metadata": {},
   "outputs": [
    {
     "data": {
      "text/plain": [
       "[0.5, 0.0]"
      ]
     },
     "execution_count": 19,
     "metadata": {},
     "output_type": "execute_result"
    }
   ],
   "source": [
    "# Find Term Frequency in each docs\n",
    "\n",
    "tf_of_docs = []\n",
    "for doc_count_table in docs_count_table:\n",
    "    tf_val = doc_count_table[sample_word] / sum(doc_count_table.values())\n",
    "    tf_of_docs.append(tf_val)\n",
    "    \n",
    "tf_of_docs"
   ]
  },
  {
   "cell_type": "code",
   "execution_count": 20,
   "metadata": {},
   "outputs": [
    {
     "data": {
      "text/plain": [
       "2.0"
      ]
     },
     "execution_count": 20,
     "metadata": {},
     "output_type": "execute_result"
    }
   ],
   "source": [
    "# Find Inverse Document Frequency with ALL DOCS\n",
    "\n",
    "sample_word_occur_in_docs = 0\n",
    "for doc_count_table in docs_count_table:\n",
    "    if sample_word in doc_count_table:\n",
    "        sample_word_occur_in_docs = sample_word_occur_in_docs + 1\n",
    "df_of_docs = len(sample_docs) / sample_word_occur_in_docs\n",
    "\n",
    "df_of_docs"
   ]
  },
  {
   "cell_type": "code",
   "execution_count": 24,
   "metadata": {},
   "outputs": [
    {
     "data": {
      "text/plain": [
       "[1.0, 0.0]"
      ]
     },
     "execution_count": 24,
     "metadata": {},
     "output_type": "execute_result"
    }
   ],
   "source": [
    "# Find TF-IDF with ALL DOCS\n",
    "\n",
    "tf_idf = []\n",
    "for tf in tf_of_docs:\n",
    "    tf_idf.append(tf*df_of_docs)\n",
    "\n",
    "tf_idf"
   ]
  }
 ],
 "metadata": {
  "kernelspec": {
   "display_name": "Python 3",
   "language": "python",
   "name": "python3"
  },
  "language_info": {
   "codemirror_mode": {
    "name": "ipython",
    "version": 3
   },
   "file_extension": ".py",
   "mimetype": "text/x-python",
   "name": "python",
   "nbconvert_exporter": "python",
   "pygments_lexer": "ipython3",
   "version": "3.7.4"
  }
 },
 "nbformat": 4,
 "nbformat_minor": 2
}
